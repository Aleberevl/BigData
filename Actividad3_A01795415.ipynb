{
 "cells": [
  {
   "cell_type": "markdown",
   "id": "7a8bc3ea-0fa4-4709-befd-425f13d94b48",
   "metadata": {},
   "source": [
    "# Actividad 3 | Aprendizaje supervisado y no supervisado\n",
    "\n",
    "**Alumna:** Alejandra Berenice Vega Lopez\n",
    "**Matricula:** A01795415\n",
    "  \n",
    "### Objetivo:\n",
    "Aplicar algoritmos de aprendizaje supervisado y no supervisado mediante PySpark para la resolución de problemas en análisis de datos, fomentando el desarrollo de habilidades prácticas en el manejo y procesamiento eficiente de grandes conjuntos de datos.\n",
    " \n",
    "### Instrucciones:\n",
    "En esta actividad aprenderás a aplicar algoritmos de aprendizaje supervisado y no supervisado implementados en PySpark, identificando para ello cada una de las etapas necesarias para poder ejecutar con éxito dichos algoritmos. En particular, se espera que apliques con éxito un algoritmo de aprendizaje supervisado (DecisionTree, RandomForest, GBTClassifier, Multilayer Perceptron, entre otros) y uno de aprendizaje no supervisado (K means, GaussianMixture, PIC, entre otros) a partir de las implementaciones disponibles en PySpark, aplicando las etapas necesarias y suficientes de preparación de los datos de entrada.\n",
    "\n",
    "Para lograrlo, se sugiere seguir los siguientes pasos:\n"
   ]
  },
  {
   "cell_type": "markdown",
   "id": "27a0a201-c628-4360-9708-ae4707549215",
   "metadata": {},
   "source": [
    "### 1. Introducción teórica: \n",
    "Se deberá de documentar de forma breve los conceptos de aprendizaje supervisado, no supervisado, así como los algoritmos más representativos que se identifican en la literatura de cada tipo de aprendizaje, además de identificar aquellos que están disponible a través de PySpark.\n",
    "\n",
    "\n",
    "**¿Qué es el Aprendizaje Automático?**\n",
    "El aprendizaje automático (machine learning) es una rama de la inteligencia artificial que permite a los sistemas aprender automáticamente a partir de datos, identificar patrones y tomar decisiones sin estar explícitamente programados para cada tarea. Dentro de esta disciplina, los enfoques más comunes se dividen en dos grandes grupos: aprendizaje supervisado y aprendizaje no supervisado.\n",
    "\n",
    "**Aprendizaje Supervisado**\n",
    "El aprendizaje supervisado se basa en entrenar modelos con datos etiquetados, es decir, donde cada instancia de entrada está asociada a una salida o clase esperada. El objetivo es que el modelo aprenda una función que relacione las características de entrada con la etiqueta y pueda generalizar para nuevos casos. PySpark implementa estos algoritmos a través del módulo pyspark.ml.classification, que forma parte del paquete MLlib. Este módulo permite construir pipelines con etapas encadenadas de transformación y modelado. Algunos de los algoritmos representativos son los siguientes:\n",
    "- Árboles de Decisión (Decision Tree): modelos jerárquicos para dividir el espacio de características.\n",
    "- Random Forest: ensambles de árboles para mejorar precisión y reducir sobreajuste.\n",
    "- Gradient Boosted Trees (GBTClassifier): optimiza secuencialmente árboles para mejorar predicción.\n",
    "- Multilayer Perceptron (MLPClassifier): red neuronal de múltiples capas usada en problemas no lineales.\n",
    "\n",
    "\n",
    "**Aprendizaje No Supervisado**\n",
    "El aprendizaje no supervisado trabaja con datos sin etiquetas. El objetivo es descubrir patrones latentes o estructuras ocultas como agrupamientos o relaciones internas. Estos algoritmos están disponibles en el módulo pyspark.ml.clustering, que permite aplicarlos sobre grandes volúmenes de datos distribuidos. Algunos de los algoritmos representativos son los siguientes:\n",
    "- K-Means: agrupamiento según distancia a centroides.\n",
    "- Gaussian Mixture Model (GMM): mezcla probabilística de distribuciones gaussianas.\n",
    "- Power Iteration Clustering (PIC): técnica espectral eficiente para grandes datasets.\n",
    "\n",
    "\n",
    "**Preparación de Datos en PySpark**\n",
    "Para ambos tipos de aprendizaje, se requiere una etapa previa de preparación de datos, la cual incluye algunos de los siguientes ejemplos, dependiendo de las transformaciones necesarias para cada Dataset:\n",
    "- Limpieza de datos y tratamiento de valores faltantes\n",
    "- Codificación de variables categóricas (StringIndexer, OneHotEncoder)\n",
    "- Ensamblaje de columnas (VectorAssembler)\n",
    "- Escalado de características (StandardScaler), entre otros.\n",
    "\n",
    "\n",
    "**Bibloografía:**\n",
    "Polak, A. (2023). Scaling machine learning with SparkLinks to an external site.: distributed ML with MLlib, TensorFlow, and PyTorch. \" O'Reilly Media, Inc.\"., Chapter 4: Data Ingestión, Preprocessing and Descriptive Statistics\n",
    "Apache Spark. (2023). MLlib: Classification. https://spark.apache.org/docs/latest/ml-classification-regression.html\n"
   ]
  },
  {
   "cell_type": "markdown",
   "id": "6feeae9f-737e-4f90-911f-2a9456b3d860",
   "metadata": {},
   "source": [
    "### 2. Selección de los datos: \n",
    "\n",
    "Para esta actividad, se propone recolectar una muestra de dimensión contenida (para evitar que los tiempos de procesamiento sean altos) a partir de la base de datos que estás trabajando en tu proyecto. Para ello y tomando como base la actividad previa en la cual has implementado códigos que permiten obtener particiones de la base de datos global D que cumplen con los criterios de las variables de caracterización identificadas, se propone que recuperes un número limitado de instancias de cada partición (aplicando la técnica de muestreo que propusiste en el Módulo 3, Proyecto Base de datos de Big Data, paso 4), lo que te permitirá construir una muestra M a partir de la unión de las instancias que se recuperan de este proceso."
   ]
  },
  {
   "cell_type": "code",
   "execution_count": 1,
   "id": "2df95d75-4902-424e-a21d-f5f528d003a1",
   "metadata": {},
   "outputs": [
    {
     "name": "stderr",
     "output_type": "stream",
     "text": [
      "25/05/25 15:40:50 WARN Utils: Your hostname, MacBook-Pro-de-Juan.local resolves to a loopback address: 127.0.0.1; using 192.168.100.17 instead (on interface en0)\n",
      "25/05/25 15:40:50 WARN Utils: Set SPARK_LOCAL_IP if you need to bind to another address\n",
      "Setting default log level to \"WARN\".\n",
      "To adjust logging level use sc.setLogLevel(newLevel). For SparkR, use setLogLevel(newLevel).\n",
      "25/05/25 15:40:51 WARN NativeCodeLoader: Unable to load native-hadoop library for your platform... using builtin-java classes where applicable\n"
     ]
    },
    {
     "name": "stdout",
     "output_type": "stream",
     "text": [
      "root\n",
      " |-- Id: string (nullable = true)\n",
      " |-- Title: string (nullable = true)\n",
      " |-- Price: string (nullable = true)\n",
      " |-- User_id: string (nullable = true)\n",
      " |-- profileName: string (nullable = true)\n",
      " |-- review/helpfulness: string (nullable = true)\n",
      " |-- review/score: string (nullable = true)\n",
      " |-- review/time: string (nullable = true)\n",
      " |-- review/summary: string (nullable = true)\n",
      " |-- review/text: string (nullable = true)\n",
      "\n",
      "+------------+------------------+--------------+\n",
      "|review/score|review/helpfulness|       user_id|\n",
      "+------------+------------------+--------------+\n",
      "|         4.0|               7/7| AVCGYZL8FQQTD|\n",
      "|         5.0|             10/10|A30TK6U7DNS82R|\n",
      "|         5.0|             10/11|A3UH4UZ4RSVO82|\n",
      "|         4.0|               7/7|A2MVUWT453QH61|\n",
      "|         4.0|               3/3|A22X4XUPKF66MR|\n",
      "+------------+------------------+--------------+\n",
      "only showing top 5 rows\n",
      "\n"
     ]
    }
   ],
   "source": [
    "from pyspark.sql import SparkSession\n",
    "from pyspark.sql.functions import col, when, split, count\n",
    "from pyspark.sql.types import FloatType, IntegerType\n",
    "\n",
    "spark = SparkSession.builder.appName('MuestreoBooksRating').getOrCreate()\n",
    "\n",
    "# Cargar dataset\n",
    "df = spark.read.option('header', 'true').csv('Books_rating.csv')\n",
    "df.printSchema()\n",
    "df.select('review/score', 'review/helpfulness', 'user_id').show(5) ##Ejemplo de variables de participacion"
   ]
  },
  {
   "cell_type": "code",
   "execution_count": 2,
   "id": "8a71261a-f2f6-4d46-8a96-8d763b9877bf",
   "metadata": {},
   "outputs": [],
   "source": [
    "# Remover advertencias\n",
    "spark.sparkContext.setLogLevel(\"ERROR\")"
   ]
  },
  {
   "cell_type": "code",
   "execution_count": 3,
   "id": "0feb9a82-f4aa-414c-ab89-909dbb06516f",
   "metadata": {},
   "outputs": [],
   "source": [
    "# Limpieza de datos \n",
    "df_clean = df.filter((col(\"review/score\").isNotNull()) & \n",
    "                     (col(\"review/helpfulness\").isNotNull()) & \n",
    "                     (col(\"user_id\").isNotNull()))\n",
    "df = df_clean\n",
    "\n",
    "# Convertir columnas relevantes a int\n",
    "df = df.withColumn(\"Score_num\", col(\"review/score\").cast(FloatType()))\n",
    "df = df.withColumn(\"Helpfulness_num\", split(col(\"review/helpfulness\"), \"/\")[0].cast(IntegerType()))\n",
    "\n",
    "# Clasificar score\n",
    "df = df.withColumn(\"score_group\", when(col(\"Score_num\") >= 4, \"Alta\").otherwise(\"Baja\"))\n",
    "# Clasificar helpfulness\n",
    "df = df.withColumn(\"helpfulness_group\", when(col(\"Helpfulness_num\") >= 8, \"Alta\").otherwise(\"Baja\"))\n",
    "\n",
    "# Remover valores no convertidos correctamente\n",
    "df = df.filter((col(\"Score_num\").isNotNull()) & (col(\"Helpfulness_num\").isNotNull()))\n",
    "\n",
    "# Calcular cantidad de reseñas por usuario\n",
    "user_reviews = df.groupBy(\"user_id\").agg(count(\"user_id\").alias(\"review_count\"))\n",
    "df = df.join(user_reviews, on=\"user_id\", how=\"left\")\n",
    "\n",
    "# Clasificación más detallada de usuarios según frecuencia de participación\n",
    "df = df.withColumn(\n",
    "    \"user_group_detailed\",\n",
    "    when(col(\"review_count\") >= 20, \"20+ reseñas\")\n",
    "    .when((col(\"review_count\") >= 10) & (col(\"review_count\") < 20), \"10-19 reseñas\")\n",
    "    .when((col(\"review_count\") >= 5) & (col(\"review_count\") < 10), \"5-9 reseñas\")\n",
    "    .when((col(\"review_count\") >= 2) & (col(\"review_count\") < 5), \"2-4 reseñas\")\n",
    "    .otherwise(\"1 reseña\")\n",
    ")"
   ]
  },
  {
   "cell_type": "code",
   "execution_count": 4,
   "id": "ea5827d5-905e-4348-9470-b4a531fc28fc",
   "metadata": {},
   "outputs": [
    {
     "name": "stderr",
     "output_type": "stream",
     "text": [
      "[Stage 6:====================================================>    (12 + 1) / 13]"
     ]
    },
    {
     "name": "stdout",
     "output_type": "stream",
     "text": [
      "+-------------------+-------+\n",
      "|user_group_detailed|count  |\n",
      "+-------------------+-------+\n",
      "|1 reseña           |690,877|\n",
      "|2-4 reseñas        |580,802|\n",
      "|20+ reseñas        |540,951|\n",
      "|5-9 reseñas        |338,868|\n",
      "|10-19 reseñas      |268,931|\n",
      "+-------------------+-------+\n",
      "\n"
     ]
    },
    {
     "name": "stderr",
     "output_type": "stream",
     "text": [
      "                                                                                "
     ]
    }
   ],
   "source": [
    "# Mostrar distribución con mejor formato\n",
    "from pyspark.sql.functions import format_number\n",
    "distribution = df.groupBy(\"user_group_detailed\").count().orderBy(\"count\", ascending=False)\n",
    "distribution = distribution.withColumn(\"count\", format_number(col(\"count\"), 0))\n",
    "distribution.show(truncate=False, n=100)"
   ]
  },
  {
   "cell_type": "code",
   "execution_count": 5,
   "id": "1cab9791-d8c6-45f1-81de-f4e4c905b43c",
   "metadata": {},
   "outputs": [
    {
     "name": "stderr",
     "output_type": "stream",
     "text": [
      "[Stage 15:===========================================>            (10 + 3) / 13]"
     ]
    },
    {
     "name": "stdout",
     "output_type": "stream",
     "text": [
      "+-----------+-----------------+-------------------+------+\n",
      "|score_group|helpfulness_group|user_group_detailed| count|\n",
      "+-----------+-----------------+-------------------+------+\n",
      "|       Alta|             Baja|           1 reseña|482065|\n",
      "|       Alta|             Baja|        2-4 reseñas|402632|\n",
      "|       Alta|             Baja|        20+ reseñas|356614|\n",
      "|       Alta|             Baja|        5-9 reseñas|243589|\n",
      "|       Alta|             Baja|      10-19 reseñas|190730|\n",
      "|       Baja|             Baja|           1 reseña|104137|\n",
      "|       Baja|             Baja|        2-4 reseñas| 97797|\n",
      "|       Alta|             Alta|        20+ reseñas| 85625|\n",
      "|       Baja|             Baja|        20+ reseñas| 78467|\n",
      "|       Alta|             Alta|           1 reseña| 72828|\n",
      "|       Baja|             Baja|        5-9 reseñas| 53827|\n",
      "|       Alta|             Alta|        2-4 reseñas| 53819|\n",
      "|       Baja|             Baja|      10-19 reseñas| 44771|\n",
      "|       Baja|             Alta|           1 reseña| 31847|\n",
      "|       Alta|             Alta|        5-9 reseñas| 27862|\n",
      "|       Baja|             Alta|        2-4 reseñas| 26554|\n",
      "|       Alta|             Alta|      10-19 reseñas| 23537|\n",
      "|       Baja|             Alta|        20+ reseñas| 20245|\n",
      "|       Baja|             Alta|        5-9 reseñas| 13590|\n",
      "|       Baja|             Alta|      10-19 reseñas|  9893|\n",
      "+-----------+-----------------+-------------------+------+\n",
      "\n"
     ]
    },
    {
     "name": "stderr",
     "output_type": "stream",
     "text": [
      "                                                                                "
     ]
    }
   ],
   "source": [
    "# Revisión de distribución conjunta de variables de caracterización\n",
    "df.groupBy(\"score_group\", \"helpfulness_group\", \"user_group_detailed\").count().orderBy(\"count\", ascending=False).show()"
   ]
  },
  {
   "cell_type": "code",
   "execution_count": 6,
   "id": "dc55a1ba-cdd6-4f2c-81de-1d8bbdfb02ba",
   "metadata": {},
   "outputs": [
    {
     "name": "stderr",
     "output_type": "stream",
     "text": [
      "[Stage 27:========>                                               (2 + 11) / 13]"
     ]
    },
    {
     "name": "stdout",
     "output_type": "stream",
     "text": [
      "+-----------+-----------------+-------------------+------+--------------------+\n",
      "|score_group|helpfulness_group|user_group_detailed|count |probabilidad        |\n",
      "+-----------+-----------------+-------------------+------+--------------------+\n",
      "|Alta       |Baja             |1 reseña           |482065|0.1991651066815015  |\n",
      "|Alta       |Baja             |2-4 reseñas        |402632|0.1663473706520621  |\n",
      "|Alta       |Baja             |20+ reseñas        |356614|0.14733503854068844 |\n",
      "|Alta       |Baja             |5-9 reseñas        |243589|0.1006387710608326  |\n",
      "|Alta       |Baja             |10-19 reseñas      |190730|0.07880008048160057 |\n",
      "|Baja       |Baja             |1 reseña           |104137|0.04302419116611146 |\n",
      "|Baja       |Baja             |2-4 reseñas        |97797 |0.0404048207982965  |\n",
      "|Alta       |Alta             |20+ reseñas        |85625 |0.035375960212012   |\n",
      "|Baja       |Baja             |20+ reseñas        |78467 |0.03241863322576287 |\n",
      "|Alta       |Alta             |1 reseña           |72828 |0.030088880938048585|\n",
      "|Baja       |Baja             |5-9 reseñas        |53827 |0.02223861968270914 |\n",
      "|Alta       |Alta             |2-4 reseñas        |53819 |0.022235314483506848|\n",
      "|Baja       |Baja             |10-19 reseñas      |44771 |0.018497134185716663|\n",
      "|Baja       |Alta             |1 reseña           |31847 |0.013157584874416891|\n",
      "|Alta       |Alta             |5-9 reseñas        |27862 |0.011511182521776098|\n",
      "|Baja       |Alta             |2-4 reseñas        |26554 |0.010970782452201655|\n",
      "|Alta       |Alta             |10-19 reseñas      |23537 |0.009724309203037974|\n",
      "|Baja       |Alta             |20+ reseñas        |20245 |0.008364219731295568|\n",
      "|Baja       |Alta             |5-9 reseñas        |13590 |0.00561470714489043 |\n",
      "|Baja       |Alta             |10-19 reseñas      |9893  |0.004087291963532085|\n",
      "+-----------+-----------------+-------------------+------+--------------------+\n",
      "\n"
     ]
    },
    {
     "name": "stderr",
     "output_type": "stream",
     "text": [
      "                                                                                "
     ]
    }
   ],
   "source": [
    "# Cálculo de ocurrencias por combinación\n",
    "comb_counts = df.groupBy(\"score_group\", \"helpfulness_group\", \"user_group_detailed\").count()\n",
    "total = df.count()\n",
    "comb_probs = comb_counts.withColumn(\"probabilidad\", (col(\"count\") / total))\n",
    "comb_probs.orderBy(col(\"probabilidad\").desc()).show(truncate=False)"
   ]
  },
  {
   "cell_type": "code",
   "execution_count": 7,
   "id": "373039df-2948-4252-8029-382b84685a30",
   "metadata": {},
   "outputs": [
    {
     "name": "stderr",
     "output_type": "stream",
     "text": [
      "                                                                                "
     ]
    },
    {
     "name": "stdout",
     "output_type": "stream",
     "text": [
      "Muestra: Score=Alta, Helpfulness=Alta, Usuario=20+ reseñas, Registros=85625\n"
     ]
    },
    {
     "name": "stderr",
     "output_type": "stream",
     "text": [
      "                                                                                "
     ]
    },
    {
     "name": "stdout",
     "output_type": "stream",
     "text": [
      "+--------------+------------------+------------+------------------------------------------+---------+-------------------+\n",
      "|user_id       |review/helpfulness|review/score|review/summary                            |Score_num|user_group_detailed|\n",
      "+--------------+------------------+------------+------------------------------------------+---------+-------------------+\n",
      "|A1075MZNVRMSEO|17/19             |4.0         |A great book about destructive temptations|4.0      |20+ reseñas        |\n",
      "|A1075MZNVRMSEO|24/24             |5.0         |A great mid-size dictionary               |5.0      |20+ reseñas        |\n",
      "|A1075MZNVRMSEO|10/10             |5.0         |A wonderful textbook for serious students.|5.0      |20+ reseñas        |\n",
      "|A11L4SBY7NCSZU|35/36             |5.0         |Fantastic                                 |5.0      |20+ reseñas        |\n",
      "|A11LNPG39A2ZV4|28/30             |4.0         |Best for Beginners                        |4.0      |20+ reseñas        |\n",
      "+--------------+------------------+------------+------------------------------------------+---------+-------------------+\n",
      "only showing top 5 rows\n",
      "\n"
     ]
    },
    {
     "name": "stderr",
     "output_type": "stream",
     "text": [
      "                                                                                "
     ]
    },
    {
     "name": "stdout",
     "output_type": "stream",
     "text": [
      "Muestra: Score=Alta, Helpfulness=Alta, Usuario=10-19 reseñas, Registros=23537\n"
     ]
    },
    {
     "name": "stderr",
     "output_type": "stream",
     "text": [
      "                                                                                "
     ]
    },
    {
     "name": "stdout",
     "output_type": "stream",
     "text": [
      "+--------------+------------------+------------+---------------------------------------------+---------+-------------------+\n",
      "|user_id       |review/helpfulness|review/score|review/summary                               |Score_num|user_group_detailed|\n",
      "+--------------+------------------+------------+---------------------------------------------+---------+-------------------+\n",
      "|A109DZXQULGEUK|22/24             |5.0         |A modern classic                             |5.0      |10-19 reseñas      |\n",
      "|A10FBJXMQPI0LL|10/13             |4.0         |I really enjoyed this book!                  |4.0      |10-19 reseñas      |\n",
      "|A10MR5DEPRCX98|10/16             |5.0         |FORGET HAMLET, A NEW GUY IS IN TOWN          |5.0      |10-19 reseñas      |\n",
      "|A142SWWCTIKL0H|42/42             |5.0         |Hard to believe this was written decades ago!|5.0      |10-19 reseñas      |\n",
      "|A14YHC72SHZHRT|27/27             |4.0         |Delicious food; a couple of minor gripes     |4.0      |10-19 reseñas      |\n",
      "+--------------+------------------+------------+---------------------------------------------+---------+-------------------+\n",
      "only showing top 5 rows\n",
      "\n"
     ]
    },
    {
     "name": "stderr",
     "output_type": "stream",
     "text": [
      "                                                                                "
     ]
    },
    {
     "name": "stdout",
     "output_type": "stream",
     "text": [
      "Muestra: Score=Alta, Helpfulness=Alta, Usuario=5-9 reseñas, Registros=27862\n"
     ]
    },
    {
     "name": "stderr",
     "output_type": "stream",
     "text": [
      "                                                                                "
     ]
    },
    {
     "name": "stdout",
     "output_type": "stream",
     "text": [
      "+--------------+------------------+------------+--------------------------------------------------------+---------+-------------------+\n",
      "|user_id       |review/helpfulness|review/score|review/summary                                          |Score_num|user_group_detailed|\n",
      "+--------------+------------------+------------+--------------------------------------------------------+---------+-------------------+\n",
      "|A109VVAISTEUKY|35/37             |5.0         |Great Book                                              |5.0      |5-9 reseñas        |\n",
      "|A10NXI59GUCNOL|10/27             |5.0         |Most detailed East Germanic-Eastern Europe early history|5.0      |5-9 reseñas        |\n",
      "|A10NXI59GUCNOL|10/27             |5.0         |Most detailed East Germanic-Eastern Europe early history|5.0      |5-9 reseñas        |\n",
      "|A12EGV286BQ9TS|13/19             |5.0         |Justice as a norm, charity by choice                    |5.0      |5-9 reseñas        |\n",
      "|A12PHF2F5JMM90|12/16             |5.0         |Beautiful Life Style                                    |5.0      |5-9 reseñas        |\n",
      "+--------------+------------------+------------+--------------------------------------------------------+---------+-------------------+\n",
      "only showing top 5 rows\n",
      "\n"
     ]
    },
    {
     "name": "stderr",
     "output_type": "stream",
     "text": [
      "                                                                                "
     ]
    },
    {
     "name": "stdout",
     "output_type": "stream",
     "text": [
      "Muestra: Score=Alta, Helpfulness=Alta, Usuario=2-4 reseñas, Registros=53819\n"
     ]
    },
    {
     "name": "stderr",
     "output_type": "stream",
     "text": [
      "                                                                                "
     ]
    },
    {
     "name": "stdout",
     "output_type": "stream",
     "text": [
      "+--------------+------------------+------------+-------------------------------------------------+---------+-------------------+\n",
      "|user_id       |review/helpfulness|review/score|review/summary                                   |Score_num|user_group_detailed|\n",
      "+--------------+------------------+------------+-------------------------------------------------+---------+-------------------+\n",
      "|A10AAANQU1PBEL|8/11              |5.0         |If you want to UNDERSTAND PROFITS look no further|5.0      |2-4 reseñas        |\n",
      "|A10LPLG0L3MQ62|33/33             |4.0         |Immigrant Kids - A Must Read!                    |4.0      |2-4 reseñas        |\n",
      "|A10Q8XL2TD9DFS|15/17             |5.0         |Tis' will touch your heart                       |5.0      |2-4 reseñas        |\n",
      "|A11I0KEN069MP4|31/38             |5.0         |It's About Time!                                 |5.0      |2-4 reseñas        |\n",
      "|A11RL6JBZ1JFH6|16/18             |5.0         |Best motivational series I've read               |5.0      |2-4 reseñas        |\n",
      "+--------------+------------------+------------+-------------------------------------------------+---------+-------------------+\n",
      "only showing top 5 rows\n",
      "\n"
     ]
    },
    {
     "name": "stderr",
     "output_type": "stream",
     "text": [
      "                                                                                "
     ]
    },
    {
     "name": "stdout",
     "output_type": "stream",
     "text": [
      "Muestra: Score=Alta, Helpfulness=Alta, Usuario=1 reseña, Registros=72828\n"
     ]
    },
    {
     "name": "stderr",
     "output_type": "stream",
     "text": [
      "                                                                                "
     ]
    },
    {
     "name": "stdout",
     "output_type": "stream",
     "text": [
      "+--------------+------------------+------------+---------------------------------------------------------------+---------+-------------------+\n",
      "|user_id       |review/helpfulness|review/score|review/summary                                                 |Score_num|user_group_detailed|\n",
      "+--------------+------------------+------------+---------------------------------------------------------------+---------+-------------------+\n",
      "|A105WH4V8GMM1 |9/10              |4.0         |Provides indepth analysis of the issues involved...            |4.0      |1 reseña           |\n",
      "|A10DLEX52H8P2M|21/21             |5.0         |Excellent Ideas                                                |5.0      |1 reseña           |\n",
      "|A10FATH5XNEQ2D|17/25             |5.0         |READ THIS BOOK!!! America's future may depend on it!           |5.0      |1 reseña           |\n",
      "|A10Y596I3SL84S|57/58             |5.0         |Keats lives                                                    |5.0      |1 reseña           |\n",
      "|A111R06RHBBDRA|12/12             |5.0         |Required Reading for Parents &amp; Providers: Healthy Teeth Now|5.0      |1 reseña           |\n",
      "+--------------+------------------+------------+---------------------------------------------------------------+---------+-------------------+\n",
      "only showing top 5 rows\n",
      "\n"
     ]
    },
    {
     "name": "stderr",
     "output_type": "stream",
     "text": [
      "                                                                                "
     ]
    },
    {
     "name": "stdout",
     "output_type": "stream",
     "text": [
      "Muestra: Score=Alta, Helpfulness=Baja, Usuario=20+ reseñas, Registros=356614\n"
     ]
    },
    {
     "name": "stderr",
     "output_type": "stream",
     "text": [
      "                                                                                "
     ]
    },
    {
     "name": "stdout",
     "output_type": "stream",
     "text": [
      "+--------------+------------------+------------+-----------------------------------------+---------+-------------------+\n",
      "|user_id       |review/helpfulness|review/score|review/summary                           |Score_num|user_group_detailed|\n",
      "+--------------+------------------+------------+-----------------------------------------+---------+-------------------+\n",
      "|A101DG7P9E26PW|0/0               |5.0         |I want more!!!                           |5.0      |20+ reseñas        |\n",
      "|A101DG7P9E26PW|0/0               |5.0         |Transports You to Paris in the 1920s     |5.0      |20+ reseñas        |\n",
      "|A101DG7P9E26PW|0/0               |4.0         |A Shocking Journey                       |4.0      |20+ reseñas        |\n",
      "|A10J604M0KKBAS|0/3               |5.0         |Excellent!                               |5.0      |20+ reseñas        |\n",
      "|A10J604M0KKBAS|2/2               |4.0         |Everything you could ask for in a novel!!|4.0      |20+ reseñas        |\n",
      "+--------------+------------------+------------+-----------------------------------------+---------+-------------------+\n",
      "only showing top 5 rows\n",
      "\n"
     ]
    },
    {
     "name": "stderr",
     "output_type": "stream",
     "text": [
      "                                                                                "
     ]
    },
    {
     "name": "stdout",
     "output_type": "stream",
     "text": [
      "Muestra: Score=Alta, Helpfulness=Baja, Usuario=10-19 reseñas, Registros=190730\n"
     ]
    },
    {
     "name": "stderr",
     "output_type": "stream",
     "text": [
      "                                                                                "
     ]
    },
    {
     "name": "stdout",
     "output_type": "stream",
     "text": [
      "+--------------------+------------------+------------+----------------------------------------------------+---------+-------------------+\n",
      "|user_id             |review/helpfulness|review/score|review/summary                                      |Score_num|user_group_detailed|\n",
      "+--------------------+------------------+------------+----------------------------------------------------+---------+-------------------+\n",
      "|A0469729ADTHXTW0CPIS|0/0               |5.0         |Loved it                                            |5.0      |10-19 reseñas      |\n",
      "|A0919846H34XADJMF99R|1/1               |5.0         |A staple in any library                             |5.0      |10-19 reseñas      |\n",
      "|A0919846H34XADJMF99R|1/1               |5.0         |A staple in any library                             |5.0      |10-19 reseñas      |\n",
      "|A1042BIXF6ZMAC      |0/0               |5.0         |A favorite growing up and great memories as an adult|5.0      |10-19 reseñas      |\n",
      "|A105L4AE1HAC4Y      |1/2               |5.0         |Amazing!!!                                          |5.0      |10-19 reseñas      |\n",
      "+--------------------+------------------+------------+----------------------------------------------------+---------+-------------------+\n",
      "only showing top 5 rows\n",
      "\n"
     ]
    },
    {
     "name": "stderr",
     "output_type": "stream",
     "text": [
      "                                                                                "
     ]
    },
    {
     "name": "stdout",
     "output_type": "stream",
     "text": [
      "Muestra: Score=Alta, Helpfulness=Baja, Usuario=5-9 reseñas, Registros=243589\n"
     ]
    },
    {
     "name": "stderr",
     "output_type": "stream",
     "text": [
      "                                                                                "
     ]
    },
    {
     "name": "stdout",
     "output_type": "stream",
     "text": [
      "+---------------------+------------------+------------+------------------------------------------------------------+---------+-------------------+\n",
      "|user_id              |review/helpfulness|review/score|review/summary                                              |Score_num|user_group_detailed|\n",
      "+---------------------+------------------+------------+------------------------------------------------------------+---------+-------------------+\n",
      "|A00540411RKGTDNU543WS|1/1               |5.0         |GREAT!                                                      |5.0      |5-9 reseñas        |\n",
      "|A07084061WTSSXN6VLV92|0/0               |5.0         |One of Oscar Wilde's Best Plays                             |5.0      |5-9 reseñas        |\n",
      "|A100UD67AHFODS       |0/0               |5.0         |Fantastic book ~ Tonst of information & fabulous photographs|5.0      |5-9 reseñas        |\n",
      "|A109FU7LXFNVFA       |0/0               |5.0         |A classic                                                   |5.0      |5-9 reseñas        |\n",
      "|A10EJF7MDTG17Y       |2/3               |5.0         |I Read This One at One Sitting                              |5.0      |5-9 reseñas        |\n",
      "+---------------------+------------------+------------+------------------------------------------------------------+---------+-------------------+\n",
      "only showing top 5 rows\n",
      "\n"
     ]
    },
    {
     "name": "stderr",
     "output_type": "stream",
     "text": [
      "                                                                                "
     ]
    },
    {
     "name": "stdout",
     "output_type": "stream",
     "text": [
      "Muestra: Score=Alta, Helpfulness=Baja, Usuario=2-4 reseñas, Registros=402632\n"
     ]
    },
    {
     "name": "stderr",
     "output_type": "stream",
     "text": [
      "                                                                                "
     ]
    },
    {
     "name": "stdout",
     "output_type": "stream",
     "text": [
      "+---------------------+------------------+------------+-------------------------+---------+-------------------+\n",
      "|user_id              |review/helpfulness|review/score|review/summary           |Score_num|user_group_detailed|\n",
      "+---------------------+------------------+------------+-------------------------+---------+-------------------+\n",
      "|A037265110S4AB0GTCV06|0/1               |5.0         |Excellent                |5.0      |2-4 reseñas        |\n",
      "|A100XA0T0MQBNI       |0/0               |5.0         |Could'nt put it down.    |5.0      |2-4 reseñas        |\n",
      "|A1012EDQVQFYBT       |2/3               |5.0         |Excellent                |5.0      |2-4 reseñas        |\n",
      "|A105L53Q4T23EY       |0/0               |5.0         |Always a hit at Storytime|5.0      |2-4 reseñas        |\n",
      "|A106M5V1P0JHKE       |0/0               |4.0         |Regency Romance!         |4.0      |2-4 reseñas        |\n",
      "+---------------------+------------------+------------+-------------------------+---------+-------------------+\n",
      "only showing top 5 rows\n",
      "\n"
     ]
    },
    {
     "name": "stderr",
     "output_type": "stream",
     "text": [
      "                                                                                "
     ]
    },
    {
     "name": "stdout",
     "output_type": "stream",
     "text": [
      "Muestra: Score=Alta, Helpfulness=Baja, Usuario=1 reseña, Registros=482065\n"
     ]
    },
    {
     "name": "stderr",
     "output_type": "stream",
     "text": [
      "                                                                                "
     ]
    },
    {
     "name": "stdout",
     "output_type": "stream",
     "text": [
      "+---------------------+------------------+------------+----------------------------------------------------------------------------+---------+-------------------+\n",
      "|user_id              |review/helpfulness|review/score|review/summary                                                              |Score_num|user_group_detailed|\n",
      "+---------------------+------------------+------------+----------------------------------------------------------------------------+---------+-------------------+\n",
      "|A074169924XKZ8IJ310GN|0/0               |4.0         |Review                                                                      |4.0      |1 reseña           |\n",
      "|A101AERBB9U25Y       |0/0               |5.0         |My 16month old boy LOVES this book. It is the perfect size for little hands.|5.0      |1 reseña           |\n",
      "|A101I9JWTDAE66       |1/1               |5.0         |Twisty. I loved how you went back in time.                                  |5.0      |1 reseña           |\n",
      "|A10557PVOBSBUZ       |0/5               |5.0         |Life, Love and Laughter                                                     |5.0      |1 reseña           |\n",
      "|A1064SI73KADOR       |0/0               |4.0         |Intriguing, moving and profound                                             |4.0      |1 reseña           |\n",
      "+---------------------+------------------+------------+----------------------------------------------------------------------------+---------+-------------------+\n",
      "only showing top 5 rows\n",
      "\n"
     ]
    },
    {
     "name": "stderr",
     "output_type": "stream",
     "text": [
      "                                                                                "
     ]
    },
    {
     "name": "stdout",
     "output_type": "stream",
     "text": [
      "Muestra: Score=Baja, Helpfulness=Alta, Usuario=20+ reseñas, Registros=20245\n"
     ]
    },
    {
     "name": "stderr",
     "output_type": "stream",
     "text": [
      "                                                                                "
     ]
    },
    {
     "name": "stdout",
     "output_type": "stream",
     "text": [
      "+--------------+------------------+------------+-----------------------------------------------------------+---------+-------------------+\n",
      "|user_id       |review/helpfulness|review/score|review/summary                                             |Score_num|user_group_detailed|\n",
      "+--------------+------------------+------------+-----------------------------------------------------------+---------+-------------------+\n",
      "|A127B67SDWCONL|11/20             |2.0         |Mere Lewis                                                 |2.0      |20+ reseñas        |\n",
      "|A140XH16IKR4B0|17/19             |3.0         |Great info, ruined by tone                                 |3.0      |20+ reseñas        |\n",
      "|A140XH16IKR4B0|49/96             |2.0         |Positively a health risk!                                  |2.0      |20+ reseñas        |\n",
      "|A18BI74KN3ZVW5|26/36             |3.0         |Should Morals and Philosophy Guide Our Society and Economy?|3.0      |20+ reseñas        |\n",
      "|A18URP1YKAD79S|9/9               |3.0         |Genuine Lies                                               |3.0      |20+ reseñas        |\n",
      "+--------------+------------------+------------+-----------------------------------------------------------+---------+-------------------+\n",
      "only showing top 5 rows\n",
      "\n"
     ]
    },
    {
     "name": "stderr",
     "output_type": "stream",
     "text": [
      "                                                                                "
     ]
    },
    {
     "name": "stdout",
     "output_type": "stream",
     "text": [
      "Muestra: Score=Baja, Helpfulness=Alta, Usuario=10-19 reseñas, Registros=9893\n"
     ]
    },
    {
     "name": "stderr",
     "output_type": "stream",
     "text": [
      "                                                                                "
     ]
    },
    {
     "name": "stdout",
     "output_type": "stream",
     "text": [
      "+--------------+------------------+------------+------------------------------------------------------+---------+-------------------+\n",
      "|user_id       |review/helpfulness|review/score|review/summary                                        |Score_num|user_group_detailed|\n",
      "+--------------+------------------+------------+------------------------------------------------------+---------+-------------------+\n",
      "|A11TYILTAFKPR3|21/23             |3.0         |Good read                                             |3.0      |10-19 reseñas      |\n",
      "|A14307VEWHLNF3|13/14             |3.0         |Decent Compendium but Very Shallow Understanding      |3.0      |10-19 reseñas      |\n",
      "|A14307VEWHLNF3|9/15              |3.0         |California Energy Crisis and Progressive Republicanism|3.0      |10-19 reseñas      |\n",
      "|A17X8U4KYC0LKP|8/45              |1.0         |Dreadful                                              |1.0      |10-19 reseñas      |\n",
      "|A195QTF4JPPBOX|16/20             |2.0         |Save yourself some dough: Go to the website.          |2.0      |10-19 reseñas      |\n",
      "+--------------+------------------+------------+------------------------------------------------------+---------+-------------------+\n",
      "only showing top 5 rows\n",
      "\n"
     ]
    },
    {
     "name": "stderr",
     "output_type": "stream",
     "text": [
      "                                                                                "
     ]
    },
    {
     "name": "stdout",
     "output_type": "stream",
     "text": [
      "Muestra: Score=Baja, Helpfulness=Alta, Usuario=5-9 reseñas, Registros=13590\n"
     ]
    },
    {
     "name": "stderr",
     "output_type": "stream",
     "text": [
      "                                                                                "
     ]
    },
    {
     "name": "stdout",
     "output_type": "stream",
     "text": [
      "+--------------+------------------+------------+-------------------------------------------+---------+-------------------+\n",
      "|user_id       |review/helpfulness|review/score|review/summary                             |Score_num|user_group_detailed|\n",
      "+--------------+------------------+------------+-------------------------------------------+---------+-------------------+\n",
      "|A10EJF7MDTG17Y|15/21             |1.0         |Shame on Thomas Nelson for Publishing This.|1.0      |5-9 reseñas        |\n",
      "|A122CC2BBCN31O|9/10              |1.0         |Look for a different edition....           |1.0      |5-9 reseñas        |\n",
      "|A122CC2BBCN31O|9/10              |1.0         |Look for a different edition....           |1.0      |5-9 reseñas        |\n",
      "|A15D9BPFAZTC2B|19/22             |3.0         |Well performed reading of a Gothic classic |3.0      |5-9 reseñas        |\n",
      "|A16IMM180JAOQU|25/45             |3.0         |Reviews                                    |3.0      |5-9 reseñas        |\n",
      "+--------------+------------------+------------+-------------------------------------------+---------+-------------------+\n",
      "only showing top 5 rows\n",
      "\n"
     ]
    },
    {
     "name": "stderr",
     "output_type": "stream",
     "text": [
      "                                                                                "
     ]
    },
    {
     "name": "stdout",
     "output_type": "stream",
     "text": [
      "Muestra: Score=Baja, Helpfulness=Alta, Usuario=2-4 reseñas, Registros=26554\n"
     ]
    },
    {
     "name": "stderr",
     "output_type": "stream",
     "text": [
      "                                                                                "
     ]
    },
    {
     "name": "stdout",
     "output_type": "stream",
     "text": [
      "+--------------+------------------+------------+---------------------------------------+---------+-------------------+\n",
      "|user_id       |review/helpfulness|review/score|review/summary                         |Score_num|user_group_detailed|\n",
      "+--------------+------------------+------------+---------------------------------------+---------+-------------------+\n",
      "|A1086X5YV9M4QF|9/27              |2.0         |Glad I don't serve the God of this book|2.0      |2-4 reseñas        |\n",
      "|A111DVWFAZPOO1|17/36             |1.0         |Complainsong                           |1.0      |2-4 reseñas        |\n",
      "|A117795JJCCM61|21/44             |1.0         |shockingly bad                         |1.0      |2-4 reseñas        |\n",
      "|A12X63TUXQK3L7|14/22             |1.0         |A Derivitave Cluster (Insert Expletive)|1.0      |2-4 reseñas        |\n",
      "|A1342PFIFCMGHV|16/37             |1.0         |This book is a pack of lies.           |1.0      |2-4 reseñas        |\n",
      "+--------------+------------------+------------+---------------------------------------+---------+-------------------+\n",
      "only showing top 5 rows\n",
      "\n"
     ]
    },
    {
     "name": "stderr",
     "output_type": "stream",
     "text": [
      "                                                                                "
     ]
    },
    {
     "name": "stdout",
     "output_type": "stream",
     "text": [
      "Muestra: Score=Baja, Helpfulness=Alta, Usuario=1 reseña, Registros=31847\n"
     ]
    },
    {
     "name": "stderr",
     "output_type": "stream",
     "text": [
      "                                                                                "
     ]
    },
    {
     "name": "stdout",
     "output_type": "stream",
     "text": [
      "+--------------+------------------+------------+---------------------------------------------+---------+-------------------+\n",
      "|user_id       |review/helpfulness|review/score|review/summary                               |Score_num|user_group_detailed|\n",
      "+--------------+------------------+------------+---------------------------------------------+---------+-------------------+\n",
      "|A10IHNI2H3N7BM|25/27             |1.0         |Warning: Do NOT Buy or Read This Book!       |1.0      |1 reseña           |\n",
      "|A111Y9QLUBHKNW|18/21             |3.0         |Disappointing                                |3.0      |1 reseña           |\n",
      "|A113QTA2TO2AOZ|26/27             |2.0         |Poor Value                                   |2.0      |1 reseña           |\n",
      "|A12I2VC7GL3WGP|75/86             |3.0         |Planar Exploration                           |3.0      |1 reseña           |\n",
      "|A12VHPMRKM923V|11/22             |2.0         |Interesting But The Book Title Is Misleading!|2.0      |1 reseña           |\n",
      "+--------------+------------------+------------+---------------------------------------------+---------+-------------------+\n",
      "only showing top 5 rows\n",
      "\n"
     ]
    },
    {
     "name": "stderr",
     "output_type": "stream",
     "text": [
      "                                                                                "
     ]
    },
    {
     "name": "stdout",
     "output_type": "stream",
     "text": [
      "Muestra: Score=Baja, Helpfulness=Baja, Usuario=20+ reseñas, Registros=78467\n"
     ]
    },
    {
     "name": "stderr",
     "output_type": "stream",
     "text": [
      "                                                                                "
     ]
    },
    {
     "name": "stdout",
     "output_type": "stream",
     "text": [
      "+--------------+------------------+------------+--------------------------------------+---------+-------------------+\n",
      "|user_id       |review/helpfulness|review/score|review/summary                        |Score_num|user_group_detailed|\n",
      "+--------------+------------------+------------+--------------------------------------+---------+-------------------+\n",
      "|A10J604M0KKBAS|1/1               |3.0         |Good, but spare us the husband's story|3.0      |20+ reseñas        |\n",
      "|A10O4LYO967IZ |0/0               |3.0         |Governess without a clue              |3.0      |20+ reseñas        |\n",
      "|A10O4LYO967IZ |0/1               |3.0         |Frivolity of the Victorian Age Abounds|3.0      |20+ reseñas        |\n",
      "|A123PD1D2BJUR5|0/1               |3.0         |More Tell and fewer Sacketts, please  |3.0      |20+ reseñas        |\n",
      "|A123PD1D2BJUR5|0/2               |2.0         |L'Amour misfires                      |2.0      |20+ reseñas        |\n",
      "+--------------+------------------+------------+--------------------------------------+---------+-------------------+\n",
      "only showing top 5 rows\n",
      "\n"
     ]
    },
    {
     "name": "stderr",
     "output_type": "stream",
     "text": [
      "                                                                                "
     ]
    },
    {
     "name": "stdout",
     "output_type": "stream",
     "text": [
      "Muestra: Score=Baja, Helpfulness=Baja, Usuario=10-19 reseñas, Registros=44771\n"
     ]
    },
    {
     "name": "stderr",
     "output_type": "stream",
     "text": [
      "                                                                                "
     ]
    },
    {
     "name": "stdout",
     "output_type": "stream",
     "text": [
      "+---------------------+------------------+------------+----------------------------------------------+---------+-------------------+\n",
      "|user_id              |review/helpfulness|review/score|review/summary                                |Score_num|user_group_detailed|\n",
      "+---------------------+------------------+------------+----------------------------------------------+---------+-------------------+\n",
      "|A00891092QIVH4W1YP46A|1/1               |2.0         |I didn't care for this book                   |2.0      |10-19 reseñas      |\n",
      "|A00891092QIVH4W1YP46A|1/1               |2.0         |I didn't care for this book                   |2.0      |10-19 reseñas      |\n",
      "|A00891092QIVH4W1YP46A|1/1               |2.0         |I didn't care for this book                   |2.0      |10-19 reseñas      |\n",
      "|A12BUBPS6ZNZ82       |5/8               |2.0         |Well-written, but the plot is exceedingly dull|2.0      |10-19 reseñas      |\n",
      "|A13910TC3NZ6LE       |6/15              |2.0         |Flowery Prose Masks Fundamental Flaw          |2.0      |10-19 reseñas      |\n",
      "+---------------------+------------------+------------+----------------------------------------------+---------+-------------------+\n",
      "only showing top 5 rows\n",
      "\n"
     ]
    },
    {
     "name": "stderr",
     "output_type": "stream",
     "text": [
      "                                                                                "
     ]
    },
    {
     "name": "stdout",
     "output_type": "stream",
     "text": [
      "Muestra: Score=Baja, Helpfulness=Baja, Usuario=5-9 reseñas, Registros=53827\n"
     ]
    },
    {
     "name": "stderr",
     "output_type": "stream",
     "text": [
      "                                                                                "
     ]
    },
    {
     "name": "stdout",
     "output_type": "stream",
     "text": [
      "+--------------+------------------+------------+-------------------------------------------------------+---------+-------------------+\n",
      "|user_id       |review/helpfulness|review/score|review/summary                                         |Score_num|user_group_detailed|\n",
      "+--------------+------------------+------------+-------------------------------------------------------+---------+-------------------+\n",
      "|A109VVAISTEUKY|1/10              |3.0         |Would have been more enjoyable if it had more direction|3.0      |5-9 reseñas        |\n",
      "|A10NYSAQCUJCWY|1/1               |2.0         |Kindle edition can't do this Justice                   |2.0      |5-9 reseñas        |\n",
      "|A10NYSAQCUJCWY|1/1               |2.0         |Kindle edition can't do this Justice                   |2.0      |5-9 reseñas        |\n",
      "|A11C08FBE0Q9VI|3/6               |3.0         |Did not work for me                                    |3.0      |5-9 reseñas        |\n",
      "|A11MEX1N34Y5JT|4/13              |1.0         |won't display on Fire                                  |1.0      |5-9 reseñas        |\n",
      "+--------------+------------------+------------+-------------------------------------------------------+---------+-------------------+\n",
      "only showing top 5 rows\n",
      "\n"
     ]
    },
    {
     "name": "stderr",
     "output_type": "stream",
     "text": [
      "                                                                                "
     ]
    },
    {
     "name": "stdout",
     "output_type": "stream",
     "text": [
      "Muestra: Score=Baja, Helpfulness=Baja, Usuario=2-4 reseñas, Registros=97797\n"
     ]
    },
    {
     "name": "stderr",
     "output_type": "stream",
     "text": [
      "                                                                                "
     ]
    },
    {
     "name": "stdout",
     "output_type": "stream",
     "text": [
      "+--------------+------------------+------------+-------------------------------------------------------+---------+-------------------+\n",
      "|user_id       |review/helpfulness|review/score|review/summary                                         |Score_num|user_group_detailed|\n",
      "+--------------+------------------+------------+-------------------------------------------------------+---------+-------------------+\n",
      "|A104EP737ZROHQ|4/10              |1.0         |UGH!!                                                  |1.0      |2-4 reseñas        |\n",
      "|A105XBOOCZNISQ|7/19              |1.0         |Self published, unreadable, apologia for a child rapist|1.0      |2-4 reseñas        |\n",
      "|A1086X5YV9M4QF|0/0               |2.0         |Coffin to Heaven                                       |2.0      |2-4 reseñas        |\n",
      "|A10SJ1NNSQ1CB |3/16              |1.0         |Too much bias to be objective.                         |1.0      |2-4 reseñas        |\n",
      "|A10W5NFZ9PLX4K|3/10              |1.0         |A pure, unadulterated debacle.                         |1.0      |2-4 reseñas        |\n",
      "+--------------+------------------+------------+-------------------------------------------------------+---------+-------------------+\n",
      "only showing top 5 rows\n",
      "\n"
     ]
    },
    {
     "name": "stderr",
     "output_type": "stream",
     "text": [
      "                                                                                "
     ]
    },
    {
     "name": "stdout",
     "output_type": "stream",
     "text": [
      "Muestra: Score=Baja, Helpfulness=Baja, Usuario=1 reseña, Registros=104137\n"
     ]
    },
    {
     "name": "stderr",
     "output_type": "stream",
     "text": [
      "[Stage 308:=============================================>         (18 + 4) / 22]"
     ]
    },
    {
     "name": "stdout",
     "output_type": "stream",
     "text": [
      "+--------------+------------------+------------+------------------------------------------------------------+---------+-------------------+\n",
      "|user_id       |review/helpfulness|review/score|review/summary                                              |Score_num|user_group_detailed|\n",
      "+--------------+------------------+------------+------------------------------------------------------------+---------+-------------------+\n",
      "|A102LSCF3BSKUR|0/8               |1.0         |New Spring by Robert Jordan                                 |1.0      |1 reseña           |\n",
      "|A107ZPHSRVHZ00|1/1               |2.0         |Kindle Download/Publisher Proofreading Errors               |2.0      |1 reseña           |\n",
      "|A109PJ5IB5R6N2|4/6               |3.0         |Out of date content! However, good explanation, good CD-ROM.|3.0      |1 reseña           |\n",
      "|A10R2Z2FQLPYEY|1/2               |1.0         |kindle version full of typos                                |1.0      |1 reseña           |\n",
      "|A10Y0YM81YDLIT|1/1               |2.0         |Aaliyah                                                     |2.0      |1 reseña           |\n",
      "+--------------+------------------+------------+------------------------------------------------------------+---------+-------------------+\n",
      "only showing top 5 rows\n",
      "\n"
     ]
    },
    {
     "name": "stderr",
     "output_type": "stream",
     "text": [
      "                                                                                "
     ]
    }
   ],
   "source": [
    "# Muestreo por todas las combinaciones posibles (2x2x7 = 28 combinaciones)\n",
    "from itertools import product\n",
    "selected_columns = [\"user_id\", \"review/helpfulness\", \"review/score\", \"review/summary\", \"Score_num\", \"user_group_detailed\"]\n",
    "\n",
    "for s, h in product([\"Alta\", \"Baja\"], repeat=2):\n",
    "    for u in [\"20+ reseñas\", \"10-19 reseñas\", \"5-9 reseñas\", \"2-4 reseñas\", \"1 reseña\"]:\n",
    "        subset = df.filter((col(\"score_group\") == s) &\n",
    "                           (col(\"helpfulness_group\") == h) &\n",
    "                           (col(\"user_group_detailed\") == u))\n",
    "        count_subset = subset.count()\n",
    "        print(f\"Muestra: Score={s}, Helpfulness={h}, Usuario={u}, Registros={count_subset}\")\n",
    "        muestra = subset.select(*selected_columns).sample(False, 0.1, seed=42)\n",
    "        muestra.show(5, truncate=False)"
   ]
  },
  {
   "cell_type": "code",
   "execution_count": 8,
   "id": "fd23d434-2243-4c1d-8176-86a2ade27610",
   "metadata": {},
   "outputs": [
    {
     "name": "stderr",
     "output_type": "stream",
     "text": [
      "                                                                                "
     ]
    },
    {
     "name": "stdout",
     "output_type": "stream",
     "text": [
      "Total de registros en muestra M: 40000\n"
     ]
    },
    {
     "name": "stderr",
     "output_type": "stream",
     "text": [
      "[Stage 425:====>                                                  (1 + 12) / 13]"
     ]
    },
    {
     "name": "stdout",
     "output_type": "stream",
     "text": [
      "+--------------+-----------------------------------------------------------------------------------------------+------------------+------------+----------------------------------------------------+---------+-------------------+\n",
      "|user_id       |Title                                                                                          |review/helpfulness|review/score|review/summary                                      |Score_num|user_group_detailed|\n",
      "+--------------+-----------------------------------------------------------------------------------------------+------------------+------------+----------------------------------------------------+---------+-------------------+\n",
      "|A1075MZNVRMSEO|El Rey de La Habana (Narrativas Hispanicas)                                                    |8/9               |5.0         |Another reality check about Cuba                    |5.0      |20+ reseñas        |\n",
      "|A1075MZNVRMSEO|The Ultimate Spanish Review and Practice: Mastering Spanish Grammar for Confident Communication|145/148           |5.0         |Thorough review and great practical exercises       |5.0      |20+ reseñas        |\n",
      "|A1075MZNVRMSEO|La lengua que heredamos: Curso de espaol para bilinges                                         |10/10             |5.0         |A wonderful textbook for serious students.          |5.0      |20+ reseñas        |\n",
      "|A1075MZNVRMSEO|Breaking Out of Beginner's Spanish                                                             |31/31             |5.0         |A unique reference that tackles important concepts  |5.0      |20+ reseñas        |\n",
      "|A1075MZNVRMSEO|NTC's Dictionary of Common Mistakes in Spanish                                                 |9/9               |5.0         |Very helpful resource                               |5.0      |20+ reseñas        |\n",
      "|A1075MZNVRMSEO|NTC's Dictionary of Common Mistakes in Spanish                                                 |9/9               |5.0         |Very helpful resource                               |5.0      |20+ reseñas        |\n",
      "|A1075MZNVRMSEO|Practice Makes Perfect: Spanish Pronouns And Prepositions                                      |30/31             |5.0         |A great reference book with useful exercises        |5.0      |20+ reseñas        |\n",
      "|A1075MZNVRMSEO|La mujer de mi hermano (Spanish Edition)                                                       |17/19             |4.0         |A great book about destructive temptations          |4.0      |20+ reseñas        |\n",
      "|A1075MZNVRMSEO|A Dictionary of English and Spanish Equivalent Proverbs                                        |14/14             |4.0         |Very handy and useful for learning idioms           |4.0      |20+ reseñas        |\n",
      "|A1075MZNVRMSEO|Dictionary of Spanish Slang (Barron's)                                                         |17/19             |5.0         |Very useful learning tool in a user friendly format.|5.0      |20+ reseñas        |\n",
      "+--------------+-----------------------------------------------------------------------------------------------+------------------+------------+----------------------------------------------------+---------+-------------------+\n",
      "only showing top 10 rows\n",
      "\n"
     ]
    },
    {
     "name": "stderr",
     "output_type": "stream",
     "text": [
      "                                                                                "
     ]
    }
   ],
   "source": [
    "# Construcción de la muestra M a partir de muestreo estratificado limitado por partición\n",
    "from itertools import product\n",
    "user_groups = [\"20+ reseñas\", \"10-19 reseñas\", \"5-9 reseñas\", \"2-4 reseñas\", \"1 reseña\"]\n",
    "selected_columns = [\"user_id\", \"Title\", \"review/helpfulness\", \"review/score\", \"review/summary\", \"Score_num\", \"user_group_detailed\"]\n",
    "muestras = []\n",
    "\n",
    "for s, h in product([\"Alta\", \"Baja\"], repeat=2):\n",
    "    for u in user_groups:\n",
    "        subset = df.filter((col(\"score_group\") == s) &\n",
    "                           (col(\"helpfulness_group\") == h) &\n",
    "                           (col(\"user_group_detailed\") == u))\n",
    "        muestra = subset.select(*selected_columns).limit(2000)\n",
    "        muestras.append(muestra)\n",
    "\n",
    "# Unión de todas las muestras para formar M\n",
    "from functools import reduce\n",
    "from pyspark.sql import DataFrame\n",
    "M = reduce(DataFrame.unionByName, muestras)\n",
    "print(f\"Total de registros en muestra M: {M.count()}\")\n",
    "M.show(10, truncate=False)"
   ]
  },
  {
   "cell_type": "markdown",
   "id": "d2bc9987-7847-49a1-9c5c-1c55bd4a4501",
   "metadata": {},
   "source": [
    "**Técnica aplicada:** Muestreo estratificado sobre combinaciones de score, utilidad y tipo de usuario. Se utiliza esta técnica porque permite garantizar que cada subgrupo esté representado proporcionalmente en la muestra.\n",
    "\n",
    "**Justificación:**\n",
    "- Los usuarios muy activos pueden dominar el conjunto si no se estratifica.\n",
    "- Las reseñas útiles y bien puntuadas tienen mayor influencia sobre recomendaciones.\n",
    "- El análisis cruzado de estas variables representa diferentes comportamientos del lector."
   ]
  },
  {
   "cell_type": "markdown",
   "id": "02055cfa-af30-4fa0-86dd-fb998e52daf7",
   "metadata": {},
   "source": [
    "### 3. Preparación de los datos: \n",
    "\n",
    "En esta etapa, se deberán de aplicar estrategias de corrección sobre los datos que integran a la muestra M que se ha preparado en el paso previo, de tal forma que de deje un conjunto M listo para ser procesado por los algoritmos de aprendizaje a aplicar. Para ello se deben de considerar pasos como: corrección de registros / columnas con valores nulos, identificación de valores atípicos, transformación de los tipos de datos, etc. Con lo anterior, se tendrá una muestra M pre-procesada."
   ]
  },
  {
   "cell_type": "code",
   "execution_count": 9,
   "id": "b0c5ba9b-dc0d-4958-bac8-76a9c4929087",
   "metadata": {},
   "outputs": [
    {
     "name": "stderr",
     "output_type": "stream",
     "text": [
      "                                                                                "
     ]
    },
    {
     "name": "stdout",
     "output_type": "stream",
     "text": [
      "Número de registros después de limpieza: 39870\n"
     ]
    },
    {
     "name": "stderr",
     "output_type": "stream",
     "text": [
      "[Stage 563:>                                                      (0 + 12) / 13]"
     ]
    },
    {
     "name": "stdout",
     "output_type": "stream",
     "text": [
      "+---------+---------------+--------------------------------------------------+\n",
      "|Score_num|Helpfulness_num|review/summary                                    |\n",
      "+---------+---------------+--------------------------------------------------+\n",
      "|5.0      |8              |Another reality check about Cuba                  |\n",
      "|5.0      |145            |Thorough review and great practical exercises     |\n",
      "|5.0      |10             |A wonderful textbook for serious students.        |\n",
      "|5.0      |31             |A unique reference that tackles important concepts|\n",
      "|5.0      |9              |Very helpful resource                             |\n",
      "+---------+---------------+--------------------------------------------------+\n",
      "only showing top 5 rows\n",
      "\n"
     ]
    },
    {
     "name": "stderr",
     "output_type": "stream",
     "text": [
      "                                                                                "
     ]
    }
   ],
   "source": [
    "from pyspark.sql.functions import col, split, length\n",
    "# Eliminar registros con valores nulos en columnas clave\n",
    "M_clean = M.dropna(subset=[\"review/score\", \"review/helpfulness\", \"review/summary\", \"user_id\", \"Title\"])\n",
    "\n",
    "# Convertir columnas a tipos adecuados si no lo están\n",
    "M_clean = M_clean.withColumn(\"Score_num\", col(\"review/score\").cast(\"float\"))\n",
    "M_clean = M_clean.withColumn(\"Helpfulness_num\", split(col(\"review/helpfulness\"), \"/\")[0].cast(\"int\"))\n",
    "\n",
    "# Filtrar valores extremos (outliers) por Score_num\n",
    "M_clean = M_clean.filter((col(\"Score_num\") >= 1.0) & (col(\"Score_num\") <= 5.0))\n",
    "\n",
    "# Remover textos extremadamente cortos o largos\n",
    "M_clean = M_clean.filter((length(col(\"review/summary\")) > 3) & (length(col(\"review/summary\")) < 300))\n",
    "\n",
    "# Mostrar información básica de la muestra limpia\n",
    "print(f\"Número de registros después de limpieza: {M_clean.count()}\")\n",
    "M_clean.select(\"Score_num\", \"Helpfulness_num\", \"review/summary\").show(5, truncate=False)"
   ]
  },
  {
   "cell_type": "markdown",
   "id": "5647bbc5-585e-4050-b83a-ff71df7c3e45",
   "metadata": {},
   "source": [
    "### 3. Preparación del conjunto de entrenamiento y prueba:\n",
    "\n",
    "Para esta etapa, la muestra M será divida en un conjunto de entrenamiento y prueba. Para ello, deberás proponer una técnica de muestreo que te permita construir el conjunto de entrenamiento y prueba minimizando el riesgo de inyección de sesgos. Ten en cuenta que, para este punto, deberás de tener en claro el porcentaje de división a utilizar, el cual se deberá de justificar.\n",
    "\n",
    "**Muestreo aleatorio estratificado proporcional**\n",
    "Para reducir el riesgo de sesgos, se eligio realizar un muestreo aleatorio estratificado basado en la variable Score_num, ya que representa la etiqueta para tareas de clasificación supervisada y unque PySpark no ofrece directamente una función de muestreo estratificado como en scikit-learn, esto se puede manejar indirectamente al garantizar que la división se haga de forma aleatoria y que la muestra M_clean esté previamente balanceada por partición (lo cual ya se garantizó en la construcción de la muestra M).\n",
    "\n",
    "**Proporción de división**: \n",
    "80% entrenamiento – 20% prueba\n",
    "La eleccion de este particionamiento es que historicamente proporciones más bajas para entrenamiento (por ejemplo 60%) pueden afectar la capacidad del modelo para aprender correctamente y proporciones mayores (90% entrenamiento) podrían no permitir una validación suficientemente confiable."
   ]
  },
  {
   "cell_type": "code",
   "execution_count": 10,
   "id": "b30e9ede-7a51-4b4d-84f6-175ddf129f7b",
   "metadata": {},
   "outputs": [
    {
     "name": "stderr",
     "output_type": "stream",
     "text": [
      "                                                                                "
     ]
    },
    {
     "name": "stdout",
     "output_type": "stream",
     "text": [
      "Registros de entrenamiento: 32072\n"
     ]
    },
    {
     "name": "stderr",
     "output_type": "stream",
     "text": [
      "                                                                                "
     ]
    },
    {
     "name": "stdout",
     "output_type": "stream",
     "text": [
      "Registros de prueba: 7798\n"
     ]
    },
    {
     "name": "stderr",
     "output_type": "stream",
     "text": [
      "                                                                                "
     ]
    },
    {
     "name": "stdout",
     "output_type": "stream",
     "text": [
      "+---------+----------+\n",
      "|Score_num|frecuencia|\n",
      "+---------+----------+\n",
      "|      1.0|      5761|\n",
      "|      2.0|      3774|\n",
      "|      3.0|      6463|\n",
      "|      4.0|      3151|\n",
      "|      5.0|     12923|\n",
      "+---------+----------+\n",
      "\n"
     ]
    },
    {
     "name": "stderr",
     "output_type": "stream",
     "text": [
      "[Stage 868:>                                                      (0 + 12) / 13]"
     ]
    },
    {
     "name": "stdout",
     "output_type": "stream",
     "text": [
      "+---------+----------+\n",
      "|Score_num|frecuencia|\n",
      "+---------+----------+\n",
      "|      1.0|      1412|\n",
      "|      2.0|       935|\n",
      "|      3.0|      1569|\n",
      "|      4.0|       732|\n",
      "|      5.0|      3150|\n",
      "+---------+----------+\n",
      "\n"
     ]
    },
    {
     "name": "stderr",
     "output_type": "stream",
     "text": [
      "                                                                                "
     ]
    }
   ],
   "source": [
    "# División aleatoria con semilla para reproducibilidad\n",
    "train_data, test_data = M_clean.randomSplit([0.8, 0.2], seed=42)\n",
    "\n",
    "# Verificación de tamaños\n",
    "print(f\"Registros de entrenamiento: {train_data.count()}\")\n",
    "print(f\"Registros de prueba: {test_data.count()}\")\n",
    "\n",
    "# Validación de proporción de clases (opcional)\n",
    "from pyspark.sql.functions import count\n",
    "train_data.groupBy(\"Score_num\").agg(count(\"*\").alias(\"frecuencia\")).orderBy(\"Score_num\").show()\n",
    "test_data.groupBy(\"Score_num\").agg(count(\"*\").alias(\"frecuencia\")).orderBy(\"Score_num\").show()\n"
   ]
  },
  {
   "cell_type": "markdown",
   "id": "a867ae8b-159b-4046-8bf2-b23d9500aea9",
   "metadata": {},
   "source": [
    "### 4. Construcción de modelos de aprendizaje supervisado y no supervisado:\n",
    "\n",
    "Para este punto realizarás dos experimentos separados, dónde se aplicará un algoritmo de aprendizaje supervisado y uno de aprendizaje no supervisado sobre la muestra M. Para el caso de aprendizaje supervisado, se deberá de identificar cuál es la variable objetivo (columna) de aprendizaje, mientras que, para el caso de aprendizaje no supervisado, se debe de seleccionar todas las columnas que se desean considerar como características bajo las cuales se realizará el proceso de agrupamiento. Usando las implementaciones correspondientes de PySpark, se deberá de ejecutar el aprendizaje correspondiente a partir de la invocación de las funciones respectivas. Para este ejercicio, se deberá seleccionar un criterio básico para medir la calidad del resultado obtenido, dependiendo de cada tipo de aprendizaje implementado. La elección quedará a juicio de cada estudiante."
   ]
  },
  {
   "cell_type": "markdown",
   "id": "1a70dae8-ce48-433f-ad17-34f2e43ff5ea",
   "metadata": {},
   "source": [
    "### Modelo de Aprendizaje Supervisado:\n",
    "Variable objetivo: Score_num\n",
    "Este campo representa la puntuación que el usuario dio al libro (de 1 a 5) y dado que este es un valor numérico discreto y ordinal, el problema puede abordarse como una clasificación multiclase. El modelo seleccionado para RandomForest ya que se adapta a este ejercicio  al poder manejar clases desequilibradas, es robusto frente a outliers y no requiere normalización de las variables.\n",
    "\n",
    "\n",
    "**Objetivo del modelo supervisado:**\n",
    "El propósito de aplicar un algoritmo de aprendizaje supervisado es predecir la calificación (Score_num) que un usuario podría dar a un libro, con base en características conocidas de su reseña. Estas características incluyen la utilidad de la reseña (Helpfulness_num), la longitud del resumen (Length_summary), y el nivel de actividad del usuario (user_group_detailed).\n",
    "\n",
    "Se ha elegido Score_num como variable objetivo porque es una etiqueta categórica ordinal (valores del 1 al 5), y permite abordar el problema como una clasificación multiclase. El algoritmo RandomForest se selecciona por su robustez frente a outliers, su capacidad para manejar clases desequilibradas, y su facilidad de interpretación.\n",
    "\n",
    "La salida esperada del modelo es una predicción de Score_num, que nos permite anticipar el tipo de reseña esperada para ciertos perfiles de usuario y contenido. \n",
    "\n",
    "\n",
    "**Preparación de datos:**\n",
    "Seleccionamos como características:\n",
    "- Helpfulness_num: Las reseñas con mayor utilidad suelen correlacionarse con opiniones más fundamentadas, lo cual puede influir en la puntuación (Score_num).\n",
    "- Length_summary: La longitud de un resumen puede reflejar el nivel de implicación del usuario.\n",
    "- user_group_detailed: Usuarios con más reseñas podrían tener un comportamiento de calificación más estable, racional o diverso."
   ]
  },
  {
   "cell_type": "code",
   "execution_count": 11,
   "id": "5897a587-2e6b-4bfb-a18c-17b4b3af7dd7",
   "metadata": {},
   "outputs": [
    {
     "name": "stderr",
     "output_type": "stream",
     "text": [
      "                                                                                "
     ]
    },
    {
     "data": {
      "text/plain": [
       "0.40394973070017953"
      ]
     },
     "execution_count": 11,
     "metadata": {},
     "output_type": "execute_result"
    }
   ],
   "source": [
    "from pyspark.ml.classification import RandomForestClassifier\n",
    "from pyspark.ml.feature import Tokenizer, StopWordsRemover, HashingTF, IDF, VectorAssembler\n",
    "from pyspark.ml import Pipeline\n",
    "from pyspark.ml.evaluation import MulticlassClassificationEvaluator\n",
    "from pyspark.sql.functions import length\n",
    "\n",
    "# Suponiendo que `train_data` y `test_data` ya están definidos en el entorno\n",
    "# Agregar columna de longitud del resumen si no existe\n",
    "train_data = train_data.withColumn(\"Length_summary\", length(\"review/summary\"))\n",
    "test_data = test_data.withColumn(\"Length_summary\", length(\"review/summary\"))\n",
    "\n",
    "# Pipeline de características: TF-IDF + ensamblador\n",
    "tokenizer = Tokenizer(inputCol=\"review/summary\", outputCol=\"words\")\n",
    "remover = StopWordsRemover(inputCol=\"words\", outputCol=\"filtered\")\n",
    "hashingTF = HashingTF(inputCol=\"filtered\", outputCol=\"rawFeatures\", numFeatures=1000)\n",
    "idf = IDF(inputCol=\"rawFeatures\", outputCol=\"textFeatures\")\n",
    "assembler = VectorAssembler(inputCols=[\"Helpfulness_num\", \"Length_summary\", \"textFeatures\"], outputCol=\"features\")\n",
    "\n",
    "# Clasificador Random Forest\n",
    "rf = RandomForestClassifier(labelCol=\"Score_num\", featuresCol=\"features\", numTrees=20, seed=42)\n",
    "\n",
    "# Crear y entrenar pipeline\n",
    "pipeline = Pipeline(stages=[tokenizer, remover, hashingTF, idf, assembler, rf])\n",
    "modelo_rf = pipeline.fit(train_data)\n",
    "\n",
    "# Predicciones\n",
    "predicciones_rf = modelo_rf.transform(test_data)\n",
    "\n",
    "# Evaluación\n",
    "evaluator = MulticlassClassificationEvaluator(labelCol=\"Score_num\", predictionCol=\"prediction\", metricName=\"accuracy\")\n",
    "accuracy_rf = evaluator.evaluate(predicciones_rf)\n",
    "\n",
    "accuracy_rf\n"
   ]
  },
  {
   "cell_type": "code",
   "execution_count": 12,
   "id": "1808abc1-2ca2-4492-9782-c71eaead46f0",
   "metadata": {},
   "outputs": [
    {
     "name": "stdout",
     "output_type": "stream",
     "text": [
      "Exactitud del modelo supervisado: 0.4039\n"
     ]
    }
   ],
   "source": [
    "print(f\"Exactitud del modelo supervisado: {accuracy_rf:.4f}\")"
   ]
  },
  {
   "cell_type": "markdown",
   "id": "5feeaa46-e5db-4b09-82bf-cc8b0d996492",
   "metadata": {},
   "source": [
    "### Resultados de modelo Random forest:\n",
    "El modelo Random Forest arrojó una precisión del 40.39% al predecir la variable objetivo Score_num, que representa la puntuación que un usuario asigna a un libro (del 1 al 5). Este nivel de exactitud indica un desempeño moderado, y aunque está por encima del azar.Este resultado puede deberse a varios factores por ejemplo que la variable Score_num presenta un desequilibrio de clases: las puntuaciones altas (como 5) son mucho más frecuentes que las bajas (como 1 o 2), lo que puede hacer que el modelo favorezca las clases mayoritarias. Además, aunque las variables seleccionadas (Helpfulness_num, Length_summary y user_group_detailed) capturan ciertos aspectos del comportamiento del usuario, podrían no ser suficientes para explicar completamente las diferencias en las calificaciones otorgadas."
   ]
  },
  {
   "cell_type": "markdown",
   "id": "a7f5d128-4814-47af-86e1-928f05d9fb8d",
   "metadata": {},
   "source": [
    "### Modelo de Aprendizaje No Supervisado:\n",
    "\n",
    "En este caso, se optó por utilizar un algoritmo de aprendizaje no supervisado con el fin de explorar patrones ocultos de agrupamiento entre las reseñas, sin tener como referencia una variable objetivo específica. Para ello, se utilizó el algoritmo KMeans, ampliamente reconocido por su eficiencia y simplicidad para dividir instancias en grupos homogéneos en función de sus características.\n",
    "\n",
    "\n",
    "**Objetivo del modelo no supervisado:**\n",
    "El propósito de aplicar un algoritmo no supervisado es descubrir patrones ocultos o agrupamientos naturales entre las reseñas de los usuarios, sin necesidad de una etiqueta de salida conocida.\n",
    "\n",
    "Se ha optado por KMeans ya que es un método eficiente y ampliamente utilizado para segmentar datos numéricos. Las características seleccionadas (Helpfulness_num, Length_summary y user_group_index) permiten representar de forma compacta la intensidad de participación del usuario, su nivel de aporte útil y la extensión del contenido textual.\n",
    "\n",
    "La salida del modelo es una nueva variable llamada cluster, que indica el grupo asignado a cada reseña. Esta clasificación permite identificar perfiles de usuario como: usuarios casuales, expertos, superusuarios, o perfiles con comportamientos atípicos. Estos hallazgos pueden emplearse para diseñar estrategias de fidelización o mejorar mecanismos de reputación en plataformas de reseñas.\n",
    "\n",
    "\n",
    "**Preparación de datos:**\n",
    "Seleccionamos como características:\n",
    "- Helpfulness_num: Se espera que las reseñas consideradas más útiles reflejen opiniones más fundamentadas, lo que podría generar agrupamientos significativos.\n",
    "- Length_summary: La longitud del texto puede ser indicativa del nivel de detalle o compromiso del usuario, lo cual también influye en su percepción.\n",
    "- user_group_detailed: Este campo representa el nivel de experiencia o actividad del usuario en la plataforma (basado en el número de reseñas que ha hecho), lo cual puede ser determinante en sus patrones de comportamiento.\n"
   ]
  },
  {
   "cell_type": "code",
   "execution_count": 14,
   "id": "d40eae65-443b-4219-9133-98ca03903787",
   "metadata": {},
   "outputs": [
    {
     "name": "stderr",
     "output_type": "stream",
     "text": [
      "                                                                                "
     ]
    },
    {
     "name": "stdout",
     "output_type": "stream",
     "text": [
      "Silhouette Score del modelo KMeans: 0.6503\n"
     ]
    },
    {
     "name": "stderr",
     "output_type": "stream",
     "text": [
      "[Stage 2624:=====================>                                 (5 + 8) / 13]"
     ]
    },
    {
     "name": "stdout",
     "output_type": "stream",
     "text": [
      "+--------------+---------------+--------------+-------------------+-------+\n",
      "|user_id       |Helpfulness_num|Length_summary|user_group_detailed|cluster|\n",
      "+--------------+---------------+--------------+-------------------+-------+\n",
      "|A1075MZNVRMSEO|8              |32            |20+ reseñas        |0      |\n",
      "|A1075MZNVRMSEO|145            |45            |20+ reseñas        |1      |\n",
      "|A1075MZNVRMSEO|10             |42            |20+ reseñas        |2      |\n",
      "|A1075MZNVRMSEO|31             |50            |20+ reseñas        |4      |\n",
      "|A1075MZNVRMSEO|9              |21            |20+ reseñas        |0      |\n",
      "|A1075MZNVRMSEO|9              |21            |20+ reseñas        |0      |\n",
      "|A1075MZNVRMSEO|30             |44            |20+ reseñas        |4      |\n",
      "|A1075MZNVRMSEO|17             |42            |20+ reseñas        |2      |\n",
      "|A1075MZNVRMSEO|14             |41            |20+ reseñas        |2      |\n",
      "|A1075MZNVRMSEO|17             |52            |20+ reseñas        |2      |\n",
      "+--------------+---------------+--------------+-------------------+-------+\n",
      "only showing top 10 rows\n",
      "\n"
     ]
    },
    {
     "name": "stderr",
     "output_type": "stream",
     "text": [
      "                                                                                "
     ]
    }
   ],
   "source": [
    "from pyspark.sql.functions import length\n",
    "from pyspark.ml.clustering import KMeans\n",
    "from pyspark.ml.feature import StringIndexer, VectorAssembler\n",
    "from pyspark.ml.evaluation import ClusteringEvaluator\n",
    "\n",
    "# Indexar columna categórica\n",
    "indexer = StringIndexer(inputCol=\"user_group_detailed\", outputCol=\"user_group_index\")\n",
    "data_indexed = indexer.fit(M_clean).transform(M_clean)\n",
    "\n",
    "# Añadir columna de longitud del resumen\n",
    "data_indexed = data_indexed.withColumn(\"Length_summary\", length(\"review/summary\"))\n",
    "\n",
    "# Vector de características para clustering\n",
    "assembler_unsup = VectorAssembler(\n",
    "    inputCols=[\"Helpfulness_num\", \"Length_summary\", \"user_group_index\"],\n",
    "    outputCol=\"features\"\n",
    ")\n",
    "data_unsup = assembler_unsup.transform(data_indexed)\n",
    "\n",
    "# KMeans clustering\n",
    "kmeans = KMeans(featuresCol=\"features\", predictionCol=\"cluster\", k=5, seed=42)\n",
    "modelo_kmeans = kmeans.fit(data_unsup)\n",
    "\n",
    "# Aplicar modelo\n",
    "resultados_kmeans = modelo_kmeans.transform(data_unsup)\n",
    "\n",
    "# Evaluación con Silhouette Score\n",
    "evaluator = ClusteringEvaluator(\n",
    "    predictionCol=\"cluster\",\n",
    "    featuresCol=\"features\",\n",
    "    metricName=\"silhouette\"\n",
    ")\n",
    "silhouette_score = evaluator.evaluate(resultados_kmeans)\n",
    "\n",
    "print(f\"Silhouette Score del modelo KMeans: {silhouette_score:.4f}\")\n",
    "\n",
    "# Ejemplos de clusters\n",
    "resultados_kmeans.select(\"user_id\", \"Helpfulness_num\", \"Length_summary\", \"user_group_detailed\", \"cluster\").show(10, truncate=False)\n"
   ]
  },
  {
   "cell_type": "code",
   "execution_count": 15,
   "id": "0e48eada-467e-4f13-ab0f-4333488ba17b",
   "metadata": {},
   "outputs": [
    {
     "name": "stderr",
     "output_type": "stream",
     "text": [
      "[Stage 2680:================>                                      (4 + 9) / 13]"
     ]
    },
    {
     "name": "stdout",
     "output_type": "stream",
     "text": [
      "+-------+---------------+------------------+------------------+\n",
      "|cluster|total_registros|avg_helpfulness   |avg_length        |\n",
      "+-------+---------------+------------------+------------------+\n",
      "|0      |23810          |6.0889962200755985|20.408189836203277|\n",
      "|1      |284            |167.7288732394366 |33.13380281690141 |\n",
      "|2      |12320          |8.596022727272727 |50.81948051948052 |\n",
      "|3      |28             |628.5357142857143 |38.67857142857143 |\n",
      "|4      |3428           |42.56242707117853 |32.02246207701283 |\n",
      "+-------+---------------+------------------+------------------+\n",
      "\n"
     ]
    },
    {
     "name": "stderr",
     "output_type": "stream",
     "text": [
      "                                                                                "
     ]
    }
   ],
   "source": [
    "from pyspark.sql.functions import avg, count\n",
    "\n",
    "# Agrupar por clúster\n",
    "cluster_summary = resultados_kmeans.groupBy(\"cluster\").agg(\n",
    "    count(\"*\").alias(\"total_registros\"),\n",
    "    avg(\"Helpfulness_num\").alias(\"avg_helpfulness\"),\n",
    "    avg(\"Length_summary\").alias(\"avg_length\")\n",
    ").orderBy(\"cluster\")\n",
    "\n",
    "# Mostrar resumen por clúster\n",
    "cluster_summary.show(truncate=False)\n"
   ]
  },
  {
   "cell_type": "markdown",
   "id": "df775d9f-9938-47bf-a18d-691e35e626a6",
   "metadata": {},
   "source": [
    "### Resultados de modelo KMeans:\n",
    "En este ejempplo en especifico se eligió KMeans con un número de clústeres igual a 5, considerando las características numéricas más relevantes del conjunto limpio:\n",
    "- Helpfulness_num: número de votos de utilidad que recibió la reseña,\n",
    "- Length_summary: longitud del resumen como aproximación del nivel de detalle,\n",
    "- user_group_detailed: transformada a índice numérico con StringIndexer para representar experiencia del usuario en la plataforma.\n",
    "\n",
    "En modelos de aprendizaje no supervisado como KMeans, no hablamos de \"precisión\" como en los modelos supervisados, porque no se tiene una variable objetivo conocida con la cual comparar los resultado, en este caso la métricas de evaluación fue el Silhouette Score, la cual tuvo un valor resultantefue 0.6503, lo que indica una segmentación aceptable con buena cohesión interna y separación entre grupos.\n",
    "\n"
   ]
  }
 ],
 "metadata": {
  "kernelspec": {
   "display_name": "env-pyspark",
   "language": "python",
   "name": "env-pyspark"
  },
  "language_info": {
   "codemirror_mode": {
    "name": "ipython",
    "version": 3
   },
   "file_extension": ".py",
   "mimetype": "text/x-python",
   "name": "python",
   "nbconvert_exporter": "python",
   "pygments_lexer": "ipython3",
   "version": "3.12.9"
  }
 },
 "nbformat": 4,
 "nbformat_minor": 5
}
